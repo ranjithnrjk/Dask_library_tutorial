{
 "cells": [
  {
   "cell_type": "markdown",
   "metadata": {},
   "source": [
    "<h1>Dask dataframe</h1>\n",
    "<h3>Data Prep</h3>"
   ]
  },
  {
   "cell_type": "code",
   "execution_count": 1,
   "metadata": {},
   "outputs": [],
   "source": [
    "# %run prep_data.py -d flights"
   ]
  },
  {
   "cell_type": "code",
   "execution_count": 17,
   "metadata": {},
   "outputs": [
    {
     "data": {
      "text/plain": [
       "'data/nycflights/*.csv'"
      ]
     },
     "execution_count": 17,
     "metadata": {},
     "output_type": "execute_result"
    }
   ],
   "source": [
    "import os\n",
    "files = os.path.join('data', 'nycflights', '*.csv')\n",
    "files"
   ]
  },
  {
   "cell_type": "code",
   "execution_count": 18,
   "metadata": {},
   "outputs": [
    {
     "name": "stderr",
     "output_type": "stream",
     "text": [
      "/usr/local/python/3.12.1/lib/python3.12/site-packages/dask/dataframe/io/csv.py:640: FutureWarning: Support for nested sequences for 'parse_dates' in pd.read_csv is deprecated. Combine the desired columns with pd.to_datetime after parsing instead.\n",
      "  head = reader(BytesIO(b_sample), nrows=sample_rows, **head_kwargs)\n"
     ]
    },
    {
     "data": {
      "text/html": [
       "<div><strong>Dask DataFrame Structure:</strong></div>\n",
       "<table border=\"1\" class=\"dataframe\">\n",
       "  <thead>\n",
       "    <tr style=\"text-align: right;\">\n",
       "      <th></th>\n",
       "      <th>Date</th>\n",
       "      <th>DayOfWeek</th>\n",
       "      <th>DepTime</th>\n",
       "      <th>CRSDepTime</th>\n",
       "      <th>ArrTime</th>\n",
       "      <th>CRSArrTime</th>\n",
       "      <th>UniqueCarrier</th>\n",
       "      <th>FlightNum</th>\n",
       "      <th>TailNum</th>\n",
       "      <th>ActualElapsedTime</th>\n",
       "      <th>CRSElapsedTime</th>\n",
       "      <th>AirTime</th>\n",
       "      <th>ArrDelay</th>\n",
       "      <th>DepDelay</th>\n",
       "      <th>Origin</th>\n",
       "      <th>Dest</th>\n",
       "      <th>Distance</th>\n",
       "      <th>TaxiIn</th>\n",
       "      <th>TaxiOut</th>\n",
       "      <th>Cancelled</th>\n",
       "      <th>Diverted</th>\n",
       "    </tr>\n",
       "    <tr>\n",
       "      <th>npartitions=10</th>\n",
       "      <th></th>\n",
       "      <th></th>\n",
       "      <th></th>\n",
       "      <th></th>\n",
       "      <th></th>\n",
       "      <th></th>\n",
       "      <th></th>\n",
       "      <th></th>\n",
       "      <th></th>\n",
       "      <th></th>\n",
       "      <th></th>\n",
       "      <th></th>\n",
       "      <th></th>\n",
       "      <th></th>\n",
       "      <th></th>\n",
       "      <th></th>\n",
       "      <th></th>\n",
       "      <th></th>\n",
       "      <th></th>\n",
       "      <th></th>\n",
       "      <th></th>\n",
       "    </tr>\n",
       "  </thead>\n",
       "  <tbody>\n",
       "    <tr>\n",
       "      <th></th>\n",
       "      <td>datetime64[ns]</td>\n",
       "      <td>int64</td>\n",
       "      <td>float64</td>\n",
       "      <td>int64</td>\n",
       "      <td>float64</td>\n",
       "      <td>int64</td>\n",
       "      <td>string</td>\n",
       "      <td>int64</td>\n",
       "      <td>string</td>\n",
       "      <td>float64</td>\n",
       "      <td>float64</td>\n",
       "      <td>float64</td>\n",
       "      <td>float64</td>\n",
       "      <td>float64</td>\n",
       "      <td>string</td>\n",
       "      <td>string</td>\n",
       "      <td>float64</td>\n",
       "      <td>float64</td>\n",
       "      <td>float64</td>\n",
       "      <td>bool</td>\n",
       "      <td>int64</td>\n",
       "    </tr>\n",
       "    <tr>\n",
       "      <th></th>\n",
       "      <td>...</td>\n",
       "      <td>...</td>\n",
       "      <td>...</td>\n",
       "      <td>...</td>\n",
       "      <td>...</td>\n",
       "      <td>...</td>\n",
       "      <td>...</td>\n",
       "      <td>...</td>\n",
       "      <td>...</td>\n",
       "      <td>...</td>\n",
       "      <td>...</td>\n",
       "      <td>...</td>\n",
       "      <td>...</td>\n",
       "      <td>...</td>\n",
       "      <td>...</td>\n",
       "      <td>...</td>\n",
       "      <td>...</td>\n",
       "      <td>...</td>\n",
       "      <td>...</td>\n",
       "      <td>...</td>\n",
       "      <td>...</td>\n",
       "    </tr>\n",
       "    <tr>\n",
       "      <th>...</th>\n",
       "      <td>...</td>\n",
       "      <td>...</td>\n",
       "      <td>...</td>\n",
       "      <td>...</td>\n",
       "      <td>...</td>\n",
       "      <td>...</td>\n",
       "      <td>...</td>\n",
       "      <td>...</td>\n",
       "      <td>...</td>\n",
       "      <td>...</td>\n",
       "      <td>...</td>\n",
       "      <td>...</td>\n",
       "      <td>...</td>\n",
       "      <td>...</td>\n",
       "      <td>...</td>\n",
       "      <td>...</td>\n",
       "      <td>...</td>\n",
       "      <td>...</td>\n",
       "      <td>...</td>\n",
       "      <td>...</td>\n",
       "      <td>...</td>\n",
       "    </tr>\n",
       "    <tr>\n",
       "      <th></th>\n",
       "      <td>...</td>\n",
       "      <td>...</td>\n",
       "      <td>...</td>\n",
       "      <td>...</td>\n",
       "      <td>...</td>\n",
       "      <td>...</td>\n",
       "      <td>...</td>\n",
       "      <td>...</td>\n",
       "      <td>...</td>\n",
       "      <td>...</td>\n",
       "      <td>...</td>\n",
       "      <td>...</td>\n",
       "      <td>...</td>\n",
       "      <td>...</td>\n",
       "      <td>...</td>\n",
       "      <td>...</td>\n",
       "      <td>...</td>\n",
       "      <td>...</td>\n",
       "      <td>...</td>\n",
       "      <td>...</td>\n",
       "      <td>...</td>\n",
       "    </tr>\n",
       "    <tr>\n",
       "      <th></th>\n",
       "      <td>...</td>\n",
       "      <td>...</td>\n",
       "      <td>...</td>\n",
       "      <td>...</td>\n",
       "      <td>...</td>\n",
       "      <td>...</td>\n",
       "      <td>...</td>\n",
       "      <td>...</td>\n",
       "      <td>...</td>\n",
       "      <td>...</td>\n",
       "      <td>...</td>\n",
       "      <td>...</td>\n",
       "      <td>...</td>\n",
       "      <td>...</td>\n",
       "      <td>...</td>\n",
       "      <td>...</td>\n",
       "      <td>...</td>\n",
       "      <td>...</td>\n",
       "      <td>...</td>\n",
       "      <td>...</td>\n",
       "      <td>...</td>\n",
       "    </tr>\n",
       "  </tbody>\n",
       "</table>\n",
       "<div>Dask Name: read_csv, 1 expression</div>"
      ],
      "text/plain": [
       "Dask DataFrame Structure:\n",
       "                          Date DayOfWeek  DepTime CRSDepTime  ArrTime CRSArrTime UniqueCarrier FlightNum TailNum ActualElapsedTime CRSElapsedTime  AirTime ArrDelay DepDelay  Origin    Dest Distance   TaxiIn  TaxiOut Cancelled Diverted\n",
       "npartitions=10                                                                                                                                                                                                                            \n",
       "                datetime64[ns]     int64  float64      int64  float64      int64        string     int64  string           float64        float64  float64  float64  float64  string  string  float64  float64  float64      bool    int64\n",
       "                           ...       ...      ...        ...      ...        ...           ...       ...     ...               ...            ...      ...      ...      ...     ...     ...      ...      ...      ...       ...      ...\n",
       "...                        ...       ...      ...        ...      ...        ...           ...       ...     ...               ...            ...      ...      ...      ...     ...     ...      ...      ...      ...       ...      ...\n",
       "                           ...       ...      ...        ...      ...        ...           ...       ...     ...               ...            ...      ...      ...      ...     ...     ...      ...      ...      ...       ...      ...\n",
       "                           ...       ...      ...        ...      ...        ...           ...       ...     ...               ...            ...      ...      ...      ...     ...     ...      ...      ...      ...       ...      ...\n",
       "Dask Name: read_csv, 1 expression\n",
       "Expr=ReadCSV(8752e02)"
      ]
     },
     "execution_count": 18,
     "metadata": {},
     "output_type": "execute_result"
    }
   ],
   "source": [
    "import dask.dataframe as dd\n",
    "\n",
    "ddf = dd.read_csv(files,\n",
    "                  dtype={\"TailNum\": str,\n",
    "                        \"CRSElapsedTime\": float,\n",
    "                        \"Cancelled\": bool,\n",
    "                        \"DepDelay\": float})\n",
    "ddf"
   ]
  },
  {
   "cell_type": "code",
   "execution_count": 19,
   "metadata": {},
   "outputs": [
    {
     "data": {
      "text/plain": [
       "Index(['Date', 'DayOfWeek', 'DepTime', 'CRSDepTime', 'ArrTime', 'CRSArrTime',\n",
       "       'UniqueCarrier', 'FlightNum', 'TailNum', 'ActualElapsedTime',\n",
       "       'CRSElapsedTime', 'AirTime', 'ArrDelay', 'DepDelay', 'Origin', 'Dest',\n",
       "       'Distance', 'TaxiIn', 'TaxiOut', 'Cancelled', 'Diverted'],\n",
       "      dtype='object')"
      ]
     },
     "execution_count": 19,
     "metadata": {},
     "output_type": "execute_result"
    }
   ],
   "source": [
    "ddf.columns"
   ]
  },
  {
   "cell_type": "code",
   "execution_count": 20,
   "metadata": {},
   "outputs": [
    {
     "data": {
      "text/plain": [
       "Date                  datetime64[ns]\n",
       "DayOfWeek                      int64\n",
       "DepTime                      float64\n",
       "CRSDepTime                     int64\n",
       "ArrTime                      float64\n",
       "CRSArrTime                     int64\n",
       "UniqueCarrier        string[pyarrow]\n",
       "FlightNum                      int64\n",
       "TailNum              string[pyarrow]\n",
       "ActualElapsedTime            float64\n",
       "CRSElapsedTime               float64\n",
       "AirTime                      float64\n",
       "ArrDelay                     float64\n",
       "DepDelay                     float64\n",
       "Origin               string[pyarrow]\n",
       "Dest                 string[pyarrow]\n",
       "Distance                     float64\n",
       "TaxiIn                       float64\n",
       "TaxiOut                      float64\n",
       "Cancelled                       bool\n",
       "Diverted                       int64\n",
       "dtype: object"
      ]
     },
     "execution_count": 20,
     "metadata": {},
     "output_type": "execute_result"
    }
   ],
   "source": [
    "ddf.dtypes"
   ]
  },
  {
   "cell_type": "code",
   "execution_count": 21,
   "metadata": {},
   "outputs": [
    {
     "data": {
      "text/plain": [
       "10"
      ]
     },
     "execution_count": 21,
     "metadata": {},
     "output_type": "execute_result"
    }
   ],
   "source": [
    "ddf.npartitions"
   ]
  },
  {
   "cell_type": "markdown",
   "metadata": {},
   "source": [
    "<h3>Pandas vs Dask</h3> Speed comparison"
   ]
  },
  {
   "cell_type": "code",
   "execution_count": 22,
   "metadata": {},
   "outputs": [],
   "source": [
    "max_delay = ddf['DepDelay'].max()"
   ]
  },
  {
   "cell_type": "code",
   "execution_count": 23,
   "metadata": {},
   "outputs": [
    {
     "data": {
      "image/svg+xml": [
       "<?xml version=\"1.0\" encoding=\"UTF-8\" standalone=\"no\"?>\n",
       "<!DOCTYPE svg PUBLIC \"-//W3C//DTD SVG 1.1//EN\"\n",
       " \"http://www.w3.org/Graphics/SVG/1.1/DTD/svg11.dtd\">\n",
       "<!-- Generated by graphviz version 2.43.0 (0)\n",
       " -->\n",
       "<!-- Title: %3 Pages: 1 -->\n",
       "<svg width=\"337pt\" height=\"188pt\"\n",
       " viewBox=\"0.00 0.00 337.00 188.00\" xmlns=\"http://www.w3.org/2000/svg\" xmlns:xlink=\"http://www.w3.org/1999/xlink\">\n",
       "<g id=\"graph0\" class=\"graph\" transform=\"scale(1 1) rotate(0) translate(4 184)\">\n",
       "<title>%3</title>\n",
       "<polygon fill=\"white\" stroke=\"transparent\" points=\"-4,4 -4,-184 333,-184 333,4 -4,4\"/>\n",
       "<!-- 3891101803401243707 -->\n",
       "<g id=\"node1\" class=\"node\">\n",
       "<title>3891101803401243707</title>\n",
       "<polygon fill=\"none\" stroke=\"black\" points=\"249.5,-180 79.5,-180 79.5,-144 249.5,-144 249.5,-180\"/>\n",
       "<text text-anchor=\"middle\" x=\"164.5\" y=\"-157\" font-family=\"Helvetica,sans-Serif\" font-size=\"20.00\">Max(Projection)</text>\n",
       "</g>\n",
       "<!-- 2629001916690346222 -->\n",
       "<g id=\"node2\" class=\"node\">\n",
       "<title>2629001916690346222</title>\n",
       "<polygon fill=\"none\" stroke=\"black\" points=\"329,-108 0,-108 0,-72 329,-72 329,-108\"/>\n",
       "<text text-anchor=\"middle\" x=\"164.5\" y=\"-85\" font-family=\"Helvetica,sans-Serif\" font-size=\"20.00\">Projection(ReadCSV, DepDelay)</text>\n",
       "</g>\n",
       "<!-- 2629001916690346222&#45;&gt;3891101803401243707 -->\n",
       "<g id=\"edge1\" class=\"edge\">\n",
       "<title>2629001916690346222&#45;&gt;3891101803401243707</title>\n",
       "<path fill=\"none\" stroke=\"black\" d=\"M164.5,-108.3C164.5,-116.02 164.5,-125.29 164.5,-133.89\"/>\n",
       "<polygon fill=\"black\" stroke=\"black\" points=\"161,-133.9 164.5,-143.9 168,-133.9 161,-133.9\"/>\n",
       "</g>\n",
       "<!-- 3393110904933711886 -->\n",
       "<g id=\"node3\" class=\"node\">\n",
       "<title>3393110904933711886</title>\n",
       "<polygon fill=\"none\" stroke=\"black\" points=\"218,-36 111,-36 111,0 218,0 218,-36\"/>\n",
       "<text text-anchor=\"middle\" x=\"164.5\" y=\"-13\" font-family=\"Helvetica,sans-Serif\" font-size=\"20.00\">ReadCSV</text>\n",
       "</g>\n",
       "<!-- 3393110904933711886&#45;&gt;2629001916690346222 -->\n",
       "<g id=\"edge2\" class=\"edge\">\n",
       "<title>3393110904933711886&#45;&gt;2629001916690346222</title>\n",
       "<path fill=\"none\" stroke=\"black\" d=\"M164.5,-36.3C164.5,-44.02 164.5,-53.29 164.5,-61.89\"/>\n",
       "<polygon fill=\"black\" stroke=\"black\" points=\"161,-61.9 164.5,-71.9 168,-61.9 161,-61.9\"/>\n",
       "</g>\n",
       "</g>\n",
       "</svg>\n"
      ],
      "text/plain": [
       "<graphviz.graphs.Digraph at 0x7565d14e2f00>"
      ]
     },
     "execution_count": 23,
     "metadata": {},
     "output_type": "execute_result"
    }
   ],
   "source": [
    "max_delay.visualize()"
   ]
  },
  {
   "cell_type": "code",
   "execution_count": 33,
   "metadata": {},
   "outputs": [
    {
     "data": {
      "text/plain": [
       "Date                       0\n",
       "DayOfWeek                  0\n",
       "DepTime                70931\n",
       "CRSDepTime                 0\n",
       "ArrTime                78210\n",
       "CRSArrTime                 0\n",
       "UniqueCarrier              0\n",
       "FlightNum                  0\n",
       "TailNum              1313006\n",
       "ActualElapsedTime      78210\n",
       "CRSElapsedTime          1965\n",
       "AirTime              1356823\n",
       "ArrDelay               78210\n",
       "DepDelay                   0\n",
       "Origin                     0\n",
       "Dest                       0\n",
       "Distance                1495\n",
       "TaxiIn               1313006\n",
       "TaxiOut              1313006\n",
       "Cancelled                  0\n",
       "Diverted                   0\n",
       "dtype: int64"
      ]
     },
     "execution_count": 33,
     "metadata": {},
     "output_type": "execute_result"
    }
   ],
   "source": [
    "ddf.isna().sum().compute()"
   ]
  },
  {
   "cell_type": "code",
   "execution_count": 38,
   "metadata": {},
   "outputs": [],
   "source": [
    "ddf['DepDelay'] = ddf['DepDelay'].fillna(0)\n",
    "max_delay = ddf['DepDelay'].max()"
   ]
  },
  {
   "cell_type": "code",
   "execution_count": 40,
   "metadata": {},
   "outputs": [
    {
     "data": {
      "image/svg+xml": [
       "<?xml version=\"1.0\" encoding=\"UTF-8\" standalone=\"no\"?>\n",
       "<!DOCTYPE svg PUBLIC \"-//W3C//DTD SVG 1.1//EN\"\n",
       " \"http://www.w3.org/Graphics/SVG/1.1/DTD/svg11.dtd\">\n",
       "<!-- Generated by graphviz version 2.43.0 (0)\n",
       " -->\n",
       "<!-- Title: %3 Pages: 1 -->\n",
       "<svg width=\"467pt\" height=\"404pt\"\n",
       " viewBox=\"0.00 0.00 467.00 404.00\" xmlns=\"http://www.w3.org/2000/svg\" xmlns:xlink=\"http://www.w3.org/1999/xlink\">\n",
       "<g id=\"graph0\" class=\"graph\" transform=\"scale(1 1) rotate(0) translate(4 400)\">\n",
       "<title>%3</title>\n",
       "<polygon fill=\"white\" stroke=\"transparent\" points=\"-4,4 -4,-400 463,-400 463,4 -4,4\"/>\n",
       "<!-- &#45;8640829193056335320 -->\n",
       "<g id=\"node1\" class=\"node\">\n",
       "<title>&#45;8640829193056335320</title>\n",
       "<polygon fill=\"none\" stroke=\"black\" points=\"264.5,-396 94.5,-396 94.5,-360 264.5,-360 264.5,-396\"/>\n",
       "<text text-anchor=\"middle\" x=\"179.5\" y=\"-373\" font-family=\"Helvetica,sans-Serif\" font-size=\"20.00\">Max(Projection)</text>\n",
       "</g>\n",
       "<!-- &#45;6515212825417034406 -->\n",
       "<g id=\"node2\" class=\"node\">\n",
       "<title>&#45;6515212825417034406</title>\n",
       "<polygon fill=\"none\" stroke=\"black\" points=\"331.5,-324 27.5,-324 27.5,-288 331.5,-288 331.5,-324\"/>\n",
       "<text text-anchor=\"middle\" x=\"179.5\" y=\"-301\" font-family=\"Helvetica,sans-Serif\" font-size=\"20.00\">Projection(Assign, DepDelay)</text>\n",
       "</g>\n",
       "<!-- &#45;6515212825417034406&#45;&gt;&#45;8640829193056335320 -->\n",
       "<g id=\"edge1\" class=\"edge\">\n",
       "<title>&#45;6515212825417034406&#45;&gt;&#45;8640829193056335320</title>\n",
       "<path fill=\"none\" stroke=\"black\" d=\"M179.5,-324.3C179.5,-332.02 179.5,-341.29 179.5,-349.89\"/>\n",
       "<polygon fill=\"black\" stroke=\"black\" points=\"176,-349.9 179.5,-359.9 183,-349.9 176,-349.9\"/>\n",
       "</g>\n",
       "<!-- &#45;4257101000172261143 -->\n",
       "<g id=\"node3\" class=\"node\">\n",
       "<title>&#45;4257101000172261143</title>\n",
       "<polygon fill=\"none\" stroke=\"black\" points=\"359,-252 0,-252 0,-216 359,-216 359,-252\"/>\n",
       "<text text-anchor=\"middle\" x=\"179.5\" y=\"-229\" font-family=\"Helvetica,sans-Serif\" font-size=\"20.00\">Assign(ReadCSV, DepDelay, Fillna)</text>\n",
       "</g>\n",
       "<!-- &#45;4257101000172261143&#45;&gt;&#45;6515212825417034406 -->\n",
       "<g id=\"edge2\" class=\"edge\">\n",
       "<title>&#45;4257101000172261143&#45;&gt;&#45;6515212825417034406</title>\n",
       "<path fill=\"none\" stroke=\"black\" d=\"M179.5,-252.3C179.5,-260.02 179.5,-269.29 179.5,-277.89\"/>\n",
       "<polygon fill=\"black\" stroke=\"black\" points=\"176,-277.9 179.5,-287.9 183,-277.9 176,-277.9\"/>\n",
       "</g>\n",
       "<!-- &#45;152399036121995206 -->\n",
       "<g id=\"node4\" class=\"node\">\n",
       "<title>&#45;152399036121995206</title>\n",
       "<polygon fill=\"none\" stroke=\"black\" points=\"347,-180 168,-180 168,-144 347,-144 347,-180\"/>\n",
       "<text text-anchor=\"middle\" x=\"257.5\" y=\"-157\" font-family=\"Helvetica,sans-Serif\" font-size=\"20.00\">Fillna(Projection)</text>\n",
       "</g>\n",
       "<!-- &#45;152399036121995206&#45;&gt;&#45;4257101000172261143 -->\n",
       "<g id=\"edge4\" class=\"edge\">\n",
       "<title>&#45;152399036121995206&#45;&gt;&#45;4257101000172261143</title>\n",
       "<path fill=\"none\" stroke=\"black\" d=\"M238.22,-180.3C228.58,-188.95 216.77,-199.55 206.27,-208.97\"/>\n",
       "<polygon fill=\"black\" stroke=\"black\" points=\"203.66,-206.61 198.56,-215.9 208.34,-211.82 203.66,-206.61\"/>\n",
       "</g>\n",
       "<!-- &#45;1190665264207925699 -->\n",
       "<g id=\"node5\" class=\"node\">\n",
       "<title>&#45;1190665264207925699</title>\n",
       "<polygon fill=\"none\" stroke=\"black\" points=\"459,-108 130,-108 130,-72 459,-72 459,-108\"/>\n",
       "<text text-anchor=\"middle\" x=\"294.5\" y=\"-85\" font-family=\"Helvetica,sans-Serif\" font-size=\"20.00\">Projection(ReadCSV, DepDelay)</text>\n",
       "</g>\n",
       "<!-- &#45;1190665264207925699&#45;&gt;&#45;152399036121995206 -->\n",
       "<g id=\"edge5\" class=\"edge\">\n",
       "<title>&#45;1190665264207925699&#45;&gt;&#45;152399036121995206</title>\n",
       "<path fill=\"none\" stroke=\"black\" d=\"M285.35,-108.3C281.1,-116.36 275.94,-126.11 271.23,-135.02\"/>\n",
       "<polygon fill=\"black\" stroke=\"black\" points=\"268.12,-133.42 266.54,-143.9 274.31,-136.69 268.12,-133.42\"/>\n",
       "</g>\n",
       "<!-- &#45;6120548621839001248 -->\n",
       "<g id=\"node6\" class=\"node\">\n",
       "<title>&#45;6120548621839001248</title>\n",
       "<polygon fill=\"none\" stroke=\"black\" points=\"252,-36 145,-36 145,0 252,0 252,-36\"/>\n",
       "<text text-anchor=\"middle\" x=\"198.5\" y=\"-13\" font-family=\"Helvetica,sans-Serif\" font-size=\"20.00\">ReadCSV</text>\n",
       "</g>\n",
       "<!-- &#45;6120548621839001248&#45;&gt;&#45;4257101000172261143 -->\n",
       "<g id=\"edge3\" class=\"edge\">\n",
       "<title>&#45;6120548621839001248&#45;&gt;&#45;4257101000172261143</title>\n",
       "<path fill=\"none\" stroke=\"black\" d=\"M159.23,-36.1C144.63,-44.63 129.66,-56.49 121.5,-72 97.52,-117.63 132.68,-175.36 157.84,-207.83\"/>\n",
       "<polygon fill=\"black\" stroke=\"black\" points=\"155.31,-210.28 164.29,-215.9 160.78,-205.91 155.31,-210.28\"/>\n",
       "</g>\n",
       "<!-- &#45;6120548621839001248&#45;&gt;&#45;1190665264207925699 -->\n",
       "<g id=\"edge6\" class=\"edge\">\n",
       "<title>&#45;6120548621839001248&#45;&gt;&#45;1190665264207925699</title>\n",
       "<path fill=\"none\" stroke=\"black\" d=\"M222.23,-36.3C234.44,-45.2 249.49,-56.18 262.68,-65.8\"/>\n",
       "<polygon fill=\"black\" stroke=\"black\" points=\"260.9,-68.83 271.04,-71.9 265.02,-63.18 260.9,-68.83\"/>\n",
       "</g>\n",
       "</g>\n",
       "</svg>\n"
      ],
      "text/plain": [
       "<graphviz.graphs.Digraph at 0x7565d0d68770>"
      ]
     },
     "execution_count": 40,
     "metadata": {},
     "output_type": "execute_result"
    }
   ],
   "source": [
    "max_delay.visualize()"
   ]
  },
  {
   "cell_type": "code",
   "execution_count": 41,
   "metadata": {},
   "outputs": [
    {
     "name": "stdout",
     "output_type": "stream",
     "text": [
      "CPU times: user 1.72 s, sys: 101 ms, total: 1.82 s\n",
      "Wall time: 4.31 s\n"
     ]
    },
    {
     "data": {
      "text/plain": [
       "np.float64(1435.0)"
      ]
     },
     "execution_count": 41,
     "metadata": {},
     "output_type": "execute_result"
    }
   ],
   "source": [
    "%%time\n",
    "max_delay.compute()"
   ]
  },
  {
   "cell_type": "code",
   "execution_count": 42,
   "metadata": {},
   "outputs": [
    {
     "name": "stdout",
     "output_type": "stream",
     "text": [
      "CPU times: user 2.57 s, sys: 180 ms, total: 2.75 s\n",
      "Wall time: 4.06 s\n"
     ]
    }
   ],
   "source": [
    "%%time\n",
    "# Pandas code to find maximum delay of files\n",
    "import pandas as pd\n",
    "\n",
    "files = os.listdir(os.path.join('data', 'nycflights'))\n",
    "\n",
    "maxes = []\n",
    "\n",
    "for file in files:\n",
    "    df = pd.read_csv(os.path.join('data', 'nycflights', file))\n",
    "    maxes.append(df.DepDelay.max())\n",
    "\n",
    "final_max = max(maxes)"
   ]
  },
  {
   "cell_type": "code",
   "execution_count": 43,
   "metadata": {},
   "outputs": [
    {
     "data": {
      "text/plain": [
       "np.float64(1435.0)"
      ]
     },
     "execution_count": 43,
     "metadata": {},
     "output_type": "execute_result"
    }
   ],
   "source": [
    "final_max"
   ]
  },
  {
   "cell_type": "code",
   "execution_count": null,
   "metadata": {},
   "outputs": [],
   "source": []
  }
 ],
 "metadata": {
  "kernelspec": {
   "display_name": "Python 3",
   "language": "python",
   "name": "python3"
  },
  "language_info": {
   "codemirror_mode": {
    "name": "ipython",
    "version": 3
   },
   "file_extension": ".py",
   "mimetype": "text/x-python",
   "name": "python",
   "nbconvert_exporter": "python",
   "pygments_lexer": "ipython3",
   "version": "3.12.1"
  }
 },
 "nbformat": 4,
 "nbformat_minor": 2
}
